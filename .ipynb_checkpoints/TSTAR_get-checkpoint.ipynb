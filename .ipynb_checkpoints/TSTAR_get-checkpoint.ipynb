{
 "cells": [
  {
   "cell_type": "markdown",
   "metadata": {},
   "source": [
    "# Goal\n",
    "* 爬取mobile01行動通訊綜合討論區中第一頁主題名稱包含\"台灣之星\"的文字資料以利文字探勘\n",
    "* 爬取 標題 回復數量 作者 發文日期 爬取日期 \n",
    "* 存取為json格式"
   ]
  },
  {
   "cell_type": "markdown",
   "metadata": {},
   "source": [
    "## Can be improve\n",
    "* 進入hyperlink爬取討論內容\n",
    "* 設定成每日爬取 運用AirFlow及資料庫(例如MySQL)"
   ]
  },
  {
   "cell_type": "markdown",
   "metadata": {},
   "source": [
    "##  We can use the data for......\n",
    "* 輿論監測 - 該討論串對該主題討論為正面或是負面 ?\n",
    "* 熱度描述 - A事件發布後，在討論版中被討論的數量站全部主題的 ? % vs 時間戳記"
   ]
  },
  {
   "cell_type": "code",
   "execution_count": 236,
   "metadata": {
    "ExecuteTime": {
     "end_time": "2019-03-23T08:20:58.929814Z",
     "start_time": "2019-03-23T08:20:58.922066Z"
    }
   },
   "outputs": [],
   "source": [
    "import requests\n",
    "import bs4\n",
    "from bs4 import BeautifulSoup\n",
    "import re\n",
    "import json\n",
    "from datetime import datetime,timezone,timedelta"
   ]
  },
  {
   "cell_type": "code",
   "execution_count": 242,
   "metadata": {
    "ExecuteTime": {
     "end_time": "2019-03-23T08:22:21.088575Z",
     "start_time": "2019-03-23T08:22:21.082359Z"
    }
   },
   "outputs": [],
   "source": [
    "# header and pages\n",
    "my_headers = {'user-agent': 'my-app/0.0.1'}\n",
    "top3_pages = ['https://www.mobile01.com/topiclist.php?f=18',\n",
    "             'https://www.mobile01.com/topiclist.php?f=18&p=2',\n",
    "             'https://www.mobile01.com/topiclist.php?f=18&p=3']"
   ]
  },
  {
   "cell_type": "code",
   "execution_count": 318,
   "metadata": {
    "ExecuteTime": {
     "end_time": "2019-03-23T09:28:10.502522Z",
     "start_time": "2019-03-23T09:28:08.824032Z"
    }
   },
   "outputs": [
    {
     "name": "stdout",
     "output_type": "stream",
     "text": [
      "accessed successfully crawling...\n",
      "accessed successfully crawling...\n",
      "accessed successfully crawling...\n"
     ]
    }
   ],
   "source": [
    "result_list = []\n",
    "keyword_list=['台灣之星','台星']\n",
    "for (p,link) in enumerate(top3_pages):\n",
    "    # get request\n",
    "    res = requests.get(link,\n",
    "                  headers=my_headers)\n",
    "    res.encoding='utf-8'\n",
    "    \n",
    "    if res.status_code == 200:\n",
    "        print('accessed successfully', 'crawling...')\n",
    "    else:\n",
    "        print('accessed failed......')\n",
    "        print(res.text)\n",
    "    # complie by bs4\n",
    "    soup = BeautifulSoup(res.text)\n",
    "    # get all td tag\n",
    "    td_set = [ele for ele in soup.find_all('td')]\n",
    "    # assign now time with 8+\n",
    "    tzutc_8 = timezone(timedelta(hours=8))\n",
    "    now_time = dt.datetime.now(tz=tzutc_8)\n",
    "\n",
    "    for i,tag in enumerate(td_set):\n",
    "        result_single = {}\n",
    "    # filter\n",
    "        # for each keyword\n",
    "        for keyword in keyword_list:\n",
    "        # class - subject    \n",
    "            if (tag.attrs['class'] == ['subject']) and (keyword in tag.a.string):\n",
    "    # get subject and authur tag\n",
    "                result_single['title'] = tag.a.string\n",
    "                popularity_raw_data = tag.a.attrs['title']\n",
    "                result_single['popularity'] = [int(s) for s in popularity_raw_data.split() if s.isdigit()][0]\n",
    "                result_single['replys'] = td_set[ i + 1 ].string\n",
    "                gene = td_set[ i + 2 ].strings\n",
    "                result_single['created_timestamp'] = str(next(gene))\n",
    "                result_single['crawled'] = str(now_time)[:16]\n",
    "                result_single['author'] = next(gene)\n",
    "                result_single['page'] = p+1\n",
    "                result_list.append(result_single)\n",
    "    # combine result\n",
    "\n",
    "    result_all ={\n",
    "        k : [d.get(k) for d in result_list]\n",
    "        for k in set().union(*result_list)\n",
    "    }"
   ]
  },
  {
   "cell_type": "code",
   "execution_count": 319,
   "metadata": {
    "ExecuteTime": {
     "end_time": "2019-03-23T09:28:10.537638Z",
     "start_time": "2019-03-23T09:28:10.519267Z"
    }
   },
   "outputs": [],
   "source": [
    "# to explore\n",
    "# print(td_set[92])\n",
    "# print(td_set[92].name)\n",
    "# print(td_set[92].a)\n",
    "# print(td_set[92].a.attrs['title'])\n",
    "# cont = td_set[92].a.attrs['title']\n",
    "# [int(s) for s in cont.split() if s.isdigit()][0]\n",
    "\n",
    "# print(td_set[94])\n",
    "# print(td_set[94].attrs)\n",
    "# print(td_set[94].find_all('p'))\n",
    "# gene = td_set[94].strings\n",
    "# print(next(gene))\n",
    "# print(next(gene))"
   ]
  },
  {
   "cell_type": "code",
   "execution_count": 320,
   "metadata": {
    "ExecuteTime": {
     "end_time": "2019-03-23T09:28:10.749047Z",
     "start_time": "2019-03-23T09:28:10.731354Z"
    }
   },
   "outputs": [
    {
     "name": "stdout",
     "output_type": "stream",
     "text": [
      "compelete saving\n"
     ]
    }
   ],
   "source": [
    "with open(\"result.json\",\"w\") as f:\n",
    "    json.dump(result_all,f)\n",
    "    print(\"compelete saving\")\n"
   ]
  },
  {
   "cell_type": "code",
   "execution_count": 321,
   "metadata": {
    "ExecuteTime": {
     "end_time": "2019-03-23T09:28:11.419440Z",
     "start_time": "2019-03-23T09:28:11.404189Z"
    }
   },
   "outputs": [
    {
     "name": "stdout",
     "output_type": "stream",
     "text": [
      "{'author': ['worgooo', 'Nanako0625', 'maybearthur', 'chkilin', 'guiyi', 'a2369627', 'bertram02', 'hank-smith', 'hank-smith', 'harry35'], 'crawled': ['2019-03-23 17:28', '2019-03-23 17:28', '2019-03-23 17:28', '2019-03-23 17:28', '2019-03-23 17:28', '2019-03-23 17:28', '2019-03-23 17:28', '2019-03-23 17:28', '2019-03-23 17:28', '2019-03-23 17:28'], 'page': [1, 2, 2, 2, 2, 2, 2, 3, 3, 3], 'title': ['台灣之星', '台灣之星499但門號不限速吃到飽 資訊月再啟動', '台星99-3M真的感覺慢(用慣21M)~~~', '【好友省序號】~台灣之星網路申辦門號~賺300元通話金', '台灣之星188 帳單費用增加', '收到台星99升138的問題', '台星在怕5G開台被三大排擠出市場啦!!!', '最近台灣之星188的上傳速度怎麼怪怪的⋯', '今天台星VIP門號的限定', '遠傳是不是有稍微把台星放在眼裡了？'], 'replys': ['6', '77', '33', '576', '22', '18', '36', '51', '6', '28'], 'created_timestamp': ['2019-03-22 17:55', '2018-11-28 19:07', '2019-03-21 14:13', '2018-03-27 13:44', '2019-03-20 14:29', '2018-09-13 09:43', '2019-03-20 15:19', '2019-03-19 21:33', '2019-03-20 15:59', '2019-03-18 18:52'], 'popularity': [2739, 108847, 14256, 215479, 9075, 7260, 13519, 11352, 2332, 9922]}\n"
     ]
    }
   ],
   "source": [
    "with open(\"result.json\",'r') as load_f:\n",
    "    load_dict = json.load(load_f)\n",
    "print(load_dict)    "
   ]
  },
  {
   "cell_type": "code",
   "execution_count": null,
   "metadata": {},
   "outputs": [],
   "source": []
  }
 ],
 "metadata": {
  "kernelspec": {
   "display_name": "Python 3",
   "language": "python",
   "name": "python3"
  },
  "language_info": {
   "codemirror_mode": {
    "name": "ipython",
    "version": 3
   },
   "file_extension": ".py",
   "mimetype": "text/x-python",
   "name": "python",
   "nbconvert_exporter": "python",
   "pygments_lexer": "ipython3",
   "version": "3.6.6"
  },
  "toc": {
   "base_numbering": 1,
   "nav_menu": {},
   "number_sections": true,
   "sideBar": true,
   "skip_h1_title": false,
   "title_cell": "Table of Contents",
   "title_sidebar": "Contents",
   "toc_cell": false,
   "toc_position": {},
   "toc_section_display": true,
   "toc_window_display": false
  }
 },
 "nbformat": 4,
 "nbformat_minor": 2
}
